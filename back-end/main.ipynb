{
 "cells": [
  {
   "cell_type": "code",
   "execution_count": 1,
   "metadata": {},
   "outputs": [
    {
     "name": "stdout",
     "output_type": "stream",
     "text": [
      "\u001b[33mWARNING: Ignoring invalid distribution - (/Users/bintangrestubawono/anaconda3/lib/python3.10/site-packages)\u001b[0m\u001b[33m\n",
      "\u001b[0m\u001b[33mWARNING: Ignoring invalid distribution -ensorflow (/Users/bintangrestubawono/anaconda3/lib/python3.10/site-packages)\u001b[0m\u001b[33m\n",
      "\u001b[0mCollecting azure-ai-textanalytics\n",
      "  Downloading azure_ai_textanalytics-5.3.0-py3-none-any.whl.metadata (82 kB)\n",
      "Requirement already satisfied: azure-core<2.0.0,>=1.24.0 in /Users/bintangrestubawono/anaconda3/lib/python3.10/site-packages (from azure-ai-textanalytics) (1.29.3)\n",
      "Requirement already satisfied: azure-common~=1.1 in /Users/bintangrestubawono/anaconda3/lib/python3.10/site-packages (from azure-ai-textanalytics) (1.1.28)\n",
      "Requirement already satisfied: isodate<1.0.0,>=0.6.1 in /Users/bintangrestubawono/anaconda3/lib/python3.10/site-packages (from azure-ai-textanalytics) (0.6.1)\n",
      "Requirement already satisfied: typing-extensions>=4.0.1 in /Users/bintangrestubawono/anaconda3/lib/python3.10/site-packages (from azure-ai-textanalytics) (4.9.0)\n",
      "Requirement already satisfied: requests>=2.18.4 in /Users/bintangrestubawono/anaconda3/lib/python3.10/site-packages (from azure-core<2.0.0,>=1.24.0->azure-ai-textanalytics) (2.32.3)\n",
      "Requirement already satisfied: six>=1.11.0 in /Users/bintangrestubawono/anaconda3/lib/python3.10/site-packages (from azure-core<2.0.0,>=1.24.0->azure-ai-textanalytics) (1.16.0)\n",
      "Requirement already satisfied: charset-normalizer<4,>=2 in /Users/bintangrestubawono/anaconda3/lib/python3.10/site-packages (from requests>=2.18.4->azure-core<2.0.0,>=1.24.0->azure-ai-textanalytics) (2.1.1)\n",
      "Requirement already satisfied: idna<4,>=2.5 in /Users/bintangrestubawono/anaconda3/lib/python3.10/site-packages (from requests>=2.18.4->azure-core<2.0.0,>=1.24.0->azure-ai-textanalytics) (2.8)\n",
      "Requirement already satisfied: urllib3<3,>=1.21.1 in /Users/bintangrestubawono/anaconda3/lib/python3.10/site-packages (from requests>=2.18.4->azure-core<2.0.0,>=1.24.0->azure-ai-textanalytics) (1.26.20)\n",
      "Requirement already satisfied: certifi>=2017.4.17 in /Users/bintangrestubawono/anaconda3/lib/python3.10/site-packages (from requests>=2.18.4->azure-core<2.0.0,>=1.24.0->azure-ai-textanalytics) (2024.2.2)\n",
      "Downloading azure_ai_textanalytics-5.3.0-py3-none-any.whl (298 kB)\n",
      "\u001b[33mWARNING: Error parsing dependencies of textract: .* suffix can only be used with `==` or `!=` operators\n",
      "    extract-msg (<=0.29.*)\n",
      "                 ~~~~~~~^\u001b[0m\u001b[33m\n",
      "\u001b[0m\u001b[33mWARNING: Ignoring invalid distribution - (/Users/bintangrestubawono/anaconda3/lib/python3.10/site-packages)\u001b[0m\u001b[33m\n",
      "\u001b[0m\u001b[33mWARNING: Ignoring invalid distribution -ensorflow (/Users/bintangrestubawono/anaconda3/lib/python3.10/site-packages)\u001b[0m\u001b[33m\n",
      "\u001b[0mInstalling collected packages: azure-ai-textanalytics\n",
      "\u001b[33mWARNING: Ignoring invalid distribution - (/Users/bintangrestubawono/anaconda3/lib/python3.10/site-packages)\u001b[0m\u001b[33m\n",
      "\u001b[0m\u001b[33mWARNING: Ignoring invalid distribution -ensorflow (/Users/bintangrestubawono/anaconda3/lib/python3.10/site-packages)\u001b[0m\u001b[33m\n",
      "\u001b[0mSuccessfully installed azure-ai-textanalytics-5.3.0\n"
     ]
    }
   ],
   "source": [
    "!pip install azure-ai-textanalytics"
   ]
  },
  {
   "cell_type": "code",
   "execution_count": 2,
   "metadata": {},
   "outputs": [],
   "source": [
    "import os\n",
    "from azure.core.credentials import AzureKeyCredential\n",
    "from azure.ai.textanalytics import TextAnalyticsClient\n",
    "import random\n",
    "import string\n",
    "from azure.search.documents import SearchClient\n",
    "from azure.search.documents.models import IndexAction\n",
    "from azure.core.credentials import AzureKeyCredential\n",
    "from openai import AzureOpenAI, OpenAI"
   ]
  },
  {
   "cell_type": "code",
   "execution_count": 4,
   "metadata": {},
   "outputs": [],
   "source": [
    "#Text Analytics\n",
    "endpoint = 'https://dev-mbchatbot-lang.cognitiveservices.azure.com/'\n",
    "key = '2c870c4d7a1343aa8d4921e8f60e8ed1'\n",
    "text_analytics_client = TextAnalyticsClient(endpoint, AzureKeyCredential(key))\n",
    "\n",
    "#AI Search\n",
    "endpoint = 'https://maribelajarsearch.search.windows.net'\n",
    "api_key = 'ORN9c2qM0ydEwpEO067ZB1SfJS76b7wIitN3aTWHtsAzSeCnCy2N'\n",
    "index_name = 'maribelajar-faq'\n",
    "\n",
    "#Azure Open AI\n",
    "client = AzureOpenAI(\n",
    "  api_key = '1e923ba14261479ca8cdf3e5fdf857a2',  \n",
    "  api_version = \"2024-08-01\",\n",
    "  azure_endpoint = 'https://maribelajarchatbot.openai.azure.com/'\n",
    ")"
   ]
  },
  {
   "cell_type": "code",
   "execution_count": 5,
   "metadata": {},
   "outputs": [],
   "source": [
    "def get_rag_chain(query_text):\n",
    "    \n",
    "    search_client = SearchClient(endpoint=endpoint, index_name=index_name, credential=AzureKeyCredential(api_key))\n",
    "    search_results = search_client.search(\n",
    "        search_text=query_text,\n",
    "        top=5  # Number of documents to retrieve\n",
    "    )\n",
    "\n",
    "    docs = []\n",
    "    docs.append(query_text)\n",
    "    result = text_analytics_client.analyze_sentiment(docs, show_opinion_mining=True)\n",
    "    docs = [doc for doc in result if not doc.is_error]\n",
    "    \n",
    "    for idx, doc in enumerate(docs):\n",
    "        sentiment = doc.sentiment\n",
    "\n",
    "    if (sentiment == \"negative\") :\n",
    "        tone = \"berempati dan mendukung\"\n",
    "    elif(sentiment == \"positive\"):\n",
    "        tone = \"mendorong dan positif\"\n",
    "    else:\n",
    "        tone = \"netral dan informatif\";\n",
    "    print(tone)\n",
    "\n",
    "    messages = [\n",
    "        {\n",
    "            \"role\": \"system\",\n",
    "            \"content\": \"Anda adalah asisten AI yang membantu orang menemukan informasi tentang layanan MariBelajar. Berikan sentiment yang sesuai terlebih dahulu seperti sambutan atau respon terhadap sentiment dulu, setelah itu baru jawab pertanyaan berdasarkan informasi yang tersedia\"\n",
    "        },\n",
    "        {\"role\": \"user\", \"content\": f'''Input Pengguna:{query_text}.\n",
    "         Informasi dari FAQ: {search_results} .\n",
    "         Sentimen Pengguna: {sentiment}.\n",
    "         Buat respons yang menjawab input pengguna menggunakan informasi dari \n",
    "         FAQ. Pastikan untuk menggunakan nada {tone} untuk mencerminkan sentimen \n",
    "         pengguna.\"'''}\n",
    "    ]\n",
    "    client = AzureOpenAI(api_key ='1e923ba14261479ca8cdf3e5fdf857a2', api_version = \"2024-08-01-preview\",azure_endpoint = 'https://maribelajarchatbot.openai.azure.com/'\n",
    ")\n",
    "    response = client.chat.completions.create(\n",
    "        model=\"gpt-35-turbo\",\n",
    "        messages=messages,\n",
    "        temperature=0.7,\n",
    "        top_p=0.95,\n",
    "        max_tokens=800,\n",
    "        stream=False,\n",
    "        frequency_penalty=0,\n",
    "        presence_penalty=0\n",
    "\n",
    "    )\n",
    "    content = response.choices[0].message.content\n",
    "\n",
    "    return content"
   ]
  },
  {
   "cell_type": "code",
   "execution_count": 6,
   "metadata": {},
   "outputs": [
    {
     "name": "stdout",
     "output_type": "stream",
     "text": [
      "berempati dan mendukung\n"
     ]
    },
    {
     "data": {
      "text/plain": [
       "'Halo, saya sangat memahami perasaan sedih Anda. Namun, saya senang mendengar bahwa Anda ingin tetap mengikuti webinar kami di MariBelajar. Untuk mendaftar ke webinar, Anda dapat mengunjungi halaman kami yang berisi daftar webinar yang tersedia dan memilih webinar yang Anda inginkan. Kemudian, klik tombol \"Daftar\" dan ikuti langkah-langkah pendaftaran. Jangan ragu untuk menghubungi kami jika Anda memerlukan bantuan lebih lanjut. Semoga webinar kami dapat membantu Anda merasa lebih baik!'"
      ]
     },
     "execution_count": 6,
     "metadata": {},
     "output_type": "execute_result"
    }
   ],
   "source": [
    "get_rag_chain(\"Aku lagi sedih tapi lagi ingin ikut webinar, gimana ya caranya?\")"
   ]
  },
  {
   "cell_type": "code",
   "execution_count": 52,
   "metadata": {},
   "outputs": [
    {
     "name": "stdout",
     "output_type": "stream",
     "text": [
      "mendorong dan positif\n"
     ]
    },
    {
     "data": {
      "text/plain": [
       "'Halo! Terima kasih sudah bersemangat untuk mengikuti webinar di Mari Belajar. Untuk mendaftar, kamu bisa mengunjungi halaman acara di website kami dan mengisi formulir pendaftaran yang tersedia. Jangan khawatir, proses pendaftaran sangat mudah dan cepat! Jika ada pertanyaan lebih lanjut, jangan ragu untuk menghubungi tim kami. Selamat belajar!'"
      ]
     },
     "execution_count": 52,
     "metadata": {},
     "output_type": "execute_result"
    }
   ],
   "source": [
    "get_rag_chain(\"Haloo aku lagi bersemangat dan ingin ikut webinar di Mari Belajar , gimana ya caranya?\")"
   ]
  },
  {
   "cell_type": "code",
   "execution_count": 53,
   "metadata": {},
   "outputs": [
    {
     "name": "stdout",
     "output_type": "stream",
     "text": [
      "netral dan informatif\n"
     ]
    },
    {
     "data": {
      "text/plain": [
       "'Tentu, untuk mendaftar webinar MariBelajar, silakan mengikuti langkah-langkah berikut:\\n1. Kunjungi halaman utama MariBelajar di https://maribelajar.id/\\n2. Pilih menu \"Webinar\" di bagian atas halaman.\\n3. Cari webinar yang ingin diikuti dan klik tombol \"Daftar\".\\n4. Isi formulir pendaftaran yang tersedia, dan pastikan untuk mengisi data yang valid.\\n5. Setelah selesai mengisi formulir, klik tombol \"Kirim\".\\n6. Anda akan menerima email konfirmasi pendaftaran dari MariBelajar.\\n\\nSemoga informasi ini membantu. Jangan ragu untuk menghubungi kami jika Anda membutuhkan bantuan lebih lanjut. Terima kasih.'"
      ]
     },
     "execution_count": 53,
     "metadata": {},
     "output_type": "execute_result"
    }
   ],
   "source": [
    "get_rag_chain(\"Cara Daftar Webinar Mari Belajar\")"
   ]
  }
 ],
 "metadata": {
  "kernelspec": {
   "display_name": "base",
   "language": "python",
   "name": "python3"
  },
  "language_info": {
   "codemirror_mode": {
    "name": "ipython",
    "version": 3
   },
   "file_extension": ".py",
   "mimetype": "text/x-python",
   "name": "python",
   "nbconvert_exporter": "python",
   "pygments_lexer": "ipython3",
   "version": "3.10.8"
  }
 },
 "nbformat": 4,
 "nbformat_minor": 2
}
